{
 "cells": [
  {
   "cell_type": "code",
   "execution_count": 1,
   "metadata": {
    "ExecuteTime": {
     "end_time": "2018-04-26T12:00:03.459956Z",
     "start_time": "2018-04-26T12:00:02.959222Z"
    }
   },
   "outputs": [],
   "source": [
    "%matplotlib inline\n",
    "import pandas as pd\n",
    "import matplotlib\n",
    "import matplotlib.pyplot as plt"
   ]
  },
  {
   "cell_type": "code",
   "execution_count": 2,
   "metadata": {
    "ExecuteTime": {
     "end_time": "2018-04-26T12:00:03.470305Z",
     "start_time": "2018-04-26T12:00:03.462028Z"
    }
   },
   "outputs": [
    {
     "name": "stdout",
     "output_type": "stream",
     "text": [
      "pandas      0.22.0\n",
      "matplotlib  2.2.2\n",
      "\n"
     ]
    }
   ],
   "source": [
    "%load_ext watermark\n",
    "%watermark -iv"
   ]
  },
  {
   "cell_type": "code",
   "execution_count": 3,
   "metadata": {
    "ExecuteTime": {
     "end_time": "2018-04-26T12:00:03.547047Z",
     "start_time": "2018-04-26T12:00:03.472476Z"
    }
   },
   "outputs": [
    {
     "data": {
      "text/html": [
       "<div>\n",
       "<style scoped>\n",
       "    .dataframe tbody tr th:only-of-type {\n",
       "        vertical-align: middle;\n",
       "    }\n",
       "\n",
       "    .dataframe tbody tr th {\n",
       "        vertical-align: top;\n",
       "    }\n",
       "\n",
       "    .dataframe thead th {\n",
       "        text-align: right;\n",
       "    }\n",
       "</style>\n",
       "<table border=\"1\" class=\"dataframe\">\n",
       "  <thead>\n",
       "    <tr style=\"text-align: right;\">\n",
       "      <th></th>\n",
       "      <th>Title</th>\n",
       "      <th>Author</th>\n",
       "      <th>Type</th>\n",
       "      <th>Read</th>\n",
       "      <th>Published</th>\n",
       "      <th>Pages</th>\n",
       "      <th>Notes</th>\n",
       "      <th>Reflection</th>\n",
       "    </tr>\n",
       "  </thead>\n",
       "  <tbody>\n",
       "    <tr>\n",
       "      <th>500</th>\n",
       "      <td>Consuming the Word: The New Testament and The ...</td>\n",
       "      <td>Scott Hahn</td>\n",
       "      <td>Audiobook</td>\n",
       "      <td>2018</td>\n",
       "      <td>2013.0</td>\n",
       "      <td>176.0</td>\n",
       "      <td>Yes</td>\n",
       "      <td>Scott Hahn is characteristically cogent and de...</td>\n",
       "    </tr>\n",
       "    <tr>\n",
       "      <th>501</th>\n",
       "      <td>Being Jazz: My Life as a (Transgender) Teen</td>\n",
       "      <td>Jazz Jennings</td>\n",
       "      <td>Audiobook</td>\n",
       "      <td>2018</td>\n",
       "      <td>2017.0</td>\n",
       "      <td>272.0</td>\n",
       "      <td>No</td>\n",
       "      <td>I read this to balance my reading of Ryan Ande...</td>\n",
       "    </tr>\n",
       "    <tr>\n",
       "      <th>502</th>\n",
       "      <td>When Harry Became Sally: Responding to the Tra...</td>\n",
       "      <td>Ryan T. Anderson</td>\n",
       "      <td>Library</td>\n",
       "      <td>2018</td>\n",
       "      <td>2018.0</td>\n",
       "      <td>213.0</td>\n",
       "      <td>Yes</td>\n",
       "      <td>Anderson provides a thorough examination of tr...</td>\n",
       "    </tr>\n",
       "    <tr>\n",
       "      <th>503</th>\n",
       "      <td>Gaudete et Exsultate: On the Call to Holiness ...</td>\n",
       "      <td>Pope Francis</td>\n",
       "      <td>PDF</td>\n",
       "      <td>2018</td>\n",
       "      <td>2018.0</td>\n",
       "      <td>38.0</td>\n",
       "      <td>Yes</td>\n",
       "      <td>This was the center of our first small group, ...</td>\n",
       "    </tr>\n",
       "    <tr>\n",
       "      <th>504</th>\n",
       "      <td>A Higher Loyalty: Truth, Lies, and Leadership</td>\n",
       "      <td>James Comey</td>\n",
       "      <td>Audiobook</td>\n",
       "      <td>2018</td>\n",
       "      <td>2018.0</td>\n",
       "      <td>312.0</td>\n",
       "      <td>No</td>\n",
       "      <td>Comey leaves no doubt about his deeply negativ...</td>\n",
       "    </tr>\n",
       "  </tbody>\n",
       "</table>\n",
       "</div>"
      ],
      "text/plain": [
       "                                                 Title            Author  \\\n",
       "500  Consuming the Word: The New Testament and The ...        Scott Hahn   \n",
       "501        Being Jazz: My Life as a (Transgender) Teen     Jazz Jennings   \n",
       "502  When Harry Became Sally: Responding to the Tra...  Ryan T. Anderson   \n",
       "503  Gaudete et Exsultate: On the Call to Holiness ...      Pope Francis   \n",
       "504      A Higher Loyalty: Truth, Lies, and Leadership       James Comey   \n",
       "\n",
       "          Type  Read  Published  Pages Notes  \\\n",
       "500  Audiobook  2018     2013.0  176.0   Yes   \n",
       "501  Audiobook  2018     2017.0  272.0    No   \n",
       "502    Library  2018     2018.0  213.0   Yes   \n",
       "503        PDF  2018     2018.0   38.0   Yes   \n",
       "504  Audiobook  2018     2018.0  312.0    No   \n",
       "\n",
       "                                            Reflection  \n",
       "500  Scott Hahn is characteristically cogent and de...  \n",
       "501  I read this to balance my reading of Ryan Ande...  \n",
       "502  Anderson provides a thorough examination of tr...  \n",
       "503  This was the center of our first small group, ...  \n",
       "504  Comey leaves no doubt about his deeply negativ...  "
      ]
     },
     "execution_count": 3,
     "metadata": {},
     "output_type": "execute_result"
    }
   ],
   "source": [
    "df = pd.read_excel('reading.xlsx')\n",
    "df.tail()"
   ]
  },
  {
   "cell_type": "code",
   "execution_count": 4,
   "metadata": {
    "ExecuteTime": {
     "end_time": "2018-04-26T12:00:03.603476Z",
     "start_time": "2018-04-26T12:00:03.548778Z"
    }
   },
   "outputs": [
    {
     "data": {
      "text/html": [
       "<div>\n",
       "<style scoped>\n",
       "    .dataframe tbody tr th:only-of-type {\n",
       "        vertical-align: middle;\n",
       "    }\n",
       "\n",
       "    .dataframe tbody tr th {\n",
       "        vertical-align: top;\n",
       "    }\n",
       "\n",
       "    .dataframe thead th {\n",
       "        text-align: right;\n",
       "    }\n",
       "</style>\n",
       "<table border=\"1\" class=\"dataframe\">\n",
       "  <thead>\n",
       "    <tr style=\"text-align: right;\">\n",
       "      <th>Read</th>\n",
       "      <th>2006</th>\n",
       "      <th>2007</th>\n",
       "      <th>2008</th>\n",
       "      <th>2009</th>\n",
       "      <th>2010</th>\n",
       "      <th>2011</th>\n",
       "      <th>2012</th>\n",
       "      <th>2013</th>\n",
       "      <th>2014</th>\n",
       "      <th>2015</th>\n",
       "      <th>2016</th>\n",
       "      <th>2017</th>\n",
       "      <th>2018</th>\n",
       "      <th>Total</th>\n",
       "    </tr>\n",
       "    <tr>\n",
       "      <th>Type</th>\n",
       "      <th></th>\n",
       "      <th></th>\n",
       "      <th></th>\n",
       "      <th></th>\n",
       "      <th></th>\n",
       "      <th></th>\n",
       "      <th></th>\n",
       "      <th></th>\n",
       "      <th></th>\n",
       "      <th></th>\n",
       "      <th></th>\n",
       "      <th></th>\n",
       "      <th></th>\n",
       "      <th></th>\n",
       "    </tr>\n",
       "  </thead>\n",
       "  <tbody>\n",
       "    <tr>\n",
       "      <th>Audiobook</th>\n",
       "      <td></td>\n",
       "      <td></td>\n",
       "      <td></td>\n",
       "      <td></td>\n",
       "      <td></td>\n",
       "      <td>5</td>\n",
       "      <td></td>\n",
       "      <td>1</td>\n",
       "      <td>5</td>\n",
       "      <td>10</td>\n",
       "      <td>43.0</td>\n",
       "      <td>52.0</td>\n",
       "      <td>17</td>\n",
       "      <td>133</td>\n",
       "    </tr>\n",
       "    <tr>\n",
       "      <th>Book</th>\n",
       "      <td>13</td>\n",
       "      <td>14</td>\n",
       "      <td>17</td>\n",
       "      <td>22</td>\n",
       "      <td>26</td>\n",
       "      <td>19</td>\n",
       "      <td>31</td>\n",
       "      <td>36</td>\n",
       "      <td>33</td>\n",
       "      <td>25</td>\n",
       "      <td>23.0</td>\n",
       "      <td>29.0</td>\n",
       "      <td>6</td>\n",
       "      <td>294</td>\n",
       "    </tr>\n",
       "    <tr>\n",
       "      <th>Library</th>\n",
       "      <td></td>\n",
       "      <td></td>\n",
       "      <td></td>\n",
       "      <td></td>\n",
       "      <td></td>\n",
       "      <td></td>\n",
       "      <td></td>\n",
       "      <td>3</td>\n",
       "      <td>4</td>\n",
       "      <td>1</td>\n",
       "      <td>7.0</td>\n",
       "      <td>10.0</td>\n",
       "      <td>11</td>\n",
       "      <td>36</td>\n",
       "    </tr>\n",
       "    <tr>\n",
       "      <th>PDF</th>\n",
       "      <td></td>\n",
       "      <td></td>\n",
       "      <td></td>\n",
       "      <td></td>\n",
       "      <td></td>\n",
       "      <td></td>\n",
       "      <td></td>\n",
       "      <td>2</td>\n",
       "      <td>6</td>\n",
       "      <td>5</td>\n",
       "      <td>5.0</td>\n",
       "      <td>2.0</td>\n",
       "      <td>2</td>\n",
       "      <td>22</td>\n",
       "    </tr>\n",
       "    <tr>\n",
       "      <th>eBook</th>\n",
       "      <td></td>\n",
       "      <td></td>\n",
       "      <td></td>\n",
       "      <td></td>\n",
       "      <td></td>\n",
       "      <td></td>\n",
       "      <td></td>\n",
       "      <td></td>\n",
       "      <td></td>\n",
       "      <td></td>\n",
       "      <td>10.0</td>\n",
       "      <td>10.0</td>\n",
       "      <td></td>\n",
       "      <td>20</td>\n",
       "    </tr>\n",
       "    <tr>\n",
       "      <th>Total</th>\n",
       "      <td>13</td>\n",
       "      <td>14</td>\n",
       "      <td>17</td>\n",
       "      <td>22</td>\n",
       "      <td>26</td>\n",
       "      <td>24</td>\n",
       "      <td>31</td>\n",
       "      <td>42</td>\n",
       "      <td>48</td>\n",
       "      <td>41</td>\n",
       "      <td>88.0</td>\n",
       "      <td>103.0</td>\n",
       "      <td>36</td>\n",
       "      <td>505</td>\n",
       "    </tr>\n",
       "  </tbody>\n",
       "</table>\n",
       "</div>"
      ],
      "text/plain": [
       "Read      2006 2007 2008 2009 2010 2011 2012 2013 2014 2015  2016   2017 2018  \\\n",
       "Type                                                                            \n",
       "Audiobook                             5         1    5   10  43.0   52.0   17   \n",
       "Book        13   14   17   22   26   19   31   36   33   25  23.0   29.0    6   \n",
       "Library                                         3    4    1   7.0   10.0   11   \n",
       "PDF                                             2    6    5   5.0    2.0    2   \n",
       "eBook                                                        10.0   10.0        \n",
       "Total       13   14   17   22   26   24   31   42   48   41  88.0  103.0   36   \n",
       "\n",
       "Read       Total  \n",
       "Type              \n",
       "Audiobook    133  \n",
       "Book         294  \n",
       "Library       36  \n",
       "PDF           22  \n",
       "eBook         20  \n",
       "Total        505  "
      ]
     },
     "execution_count": 4,
     "metadata": {},
     "output_type": "execute_result"
    }
   ],
   "source": [
    "table = pd.pivot_table(df,\n",
    "                       index=['Type'],\n",
    "                       columns=['Read'],\n",
    "                       values=['Title'],\n",
    "                       margins=True,\n",
    "                       margins_name='Total',\n",
    "                       aggfunc=[len])\n",
    "table.columns = table.columns.droplevel(1)\n",
    "table.columns = table.columns.droplevel(0)\n",
    "table.fillna('')"
   ]
  },
  {
   "cell_type": "code",
   "execution_count": 6,
   "metadata": {
    "ExecuteTime": {
     "end_time": "2018-04-26T12:00:05.758607Z",
     "start_time": "2018-04-26T12:00:05.587659Z"
    }
   },
   "outputs": [
    {
     "data": {
      "image/png": "[encoded data removed]",
      "text/plain": [
       "<Figure size 640x480 with 1 Axes>"
      ]
     },
     "metadata": {},
     "output_type": "display_data"
    }
   ],
   "source": [
    "dfPlot = (df\n",
    " .groupby(['Read','Type'])\n",
    " .size()\n",
    " .unstack()\n",
    ")\n",
    "dfPlot = dfPlot[['Book','Audiobook','Library','eBook','PDF']]\n",
    "dfPlot.plot.area()\n",
    "\n",
    "plt.style.use('mag')\n",
    "plt.gca().set_xlabel('')\n",
    "plt.gca().xaxis.grid(False)\n",
    "# plt.savefig('chart.png', dpi = 350)"
   ]
  },
  {
   "cell_type": "code",
   "execution_count": null,
   "metadata": {
    "collapsed": true
   },
   "outputs": [],
   "source": []
  }
 ],
 "metadata": {
  "anaconda-cloud": {},
  "kernelspec": {
   "display_name": "Python 3",
   "language": "python",
   "name": "python3"
  },
  "language_info": {
   "codemirror_mode": {
    "name": "ipython",
    "version": 3
   },
   "file_extension": ".py",
   "mimetype": "text/x-python",
   "name": "python",
   "nbconvert_exporter": "python",
   "pygments_lexer": "ipython3",
   "version": "3.6.3"
  },
  "toc": {
   "nav_menu": {},
   "number_sections": true,
   "sideBar": true,
   "skip_h1_title": false,
   "toc_cell": false,
   "toc_position": {},
   "toc_section_display": "block",
   "toc_window_display": false
  }
 },
 "nbformat": 4,
 "nbformat_minor": 2
}
