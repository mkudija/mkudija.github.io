{
 "cells": [
  {
   "cell_type": "code",
   "execution_count": 1,
   "metadata": {
    "ExecuteTime": {
     "end_time": "2018-06-17T17:03:15.083960Z",
     "start_time": "2018-06-17T17:03:14.578221Z"
    },
    "collapsed": true
   },
   "outputs": [],
   "source": [
    "%matplotlib inline\n",
    "import pandas as pd\n",
    "import matplotlib\n",
    "import matplotlib.pyplot as plt"
   ]
  },
  {
   "cell_type": "code",
   "execution_count": 2,
   "metadata": {
    "ExecuteTime": {
     "end_time": "2018-06-17T17:03:15.098735Z",
     "start_time": "2018-06-17T17:03:15.086187Z"
    }
   },
   "outputs": [
    {
     "name": "stdout",
     "output_type": "stream",
     "text": [
      "pandas      0.22.0\n",
      "matplotlib  2.2.2\n",
      "\n"
     ]
    }
   ],
   "source": [
    "%load_ext watermark\n",
    "%watermark -iv"
   ]
  },
  {
   "cell_type": "code",
   "execution_count": 3,
   "metadata": {
    "ExecuteTime": {
     "end_time": "2018-06-17T17:03:15.181330Z",
     "start_time": "2018-06-17T17:03:15.101527Z"
    }
   },
   "outputs": [
    {
     "data": {
      "text/html": [
       "<div>\n",
       "<style scoped>\n",
       "    .dataframe tbody tr th:only-of-type {\n",
       "        vertical-align: middle;\n",
       "    }\n",
       "\n",
       "    .dataframe tbody tr th {\n",
       "        vertical-align: top;\n",
       "    }\n",
       "\n",
       "    .dataframe thead th {\n",
       "        text-align: right;\n",
       "    }\n",
       "</style>\n",
       "<table border=\"1\" class=\"dataframe\">\n",
       "  <thead>\n",
       "    <tr style=\"text-align: right;\">\n",
       "      <th></th>\n",
       "      <th>Title</th>\n",
       "      <th>Author</th>\n",
       "      <th>Type</th>\n",
       "      <th>Read</th>\n",
       "      <th>Published</th>\n",
       "      <th>Pages</th>\n",
       "      <th>Notes</th>\n",
       "      <th>Reflection</th>\n",
       "    </tr>\n",
       "  </thead>\n",
       "  <tbody>\n",
       "    <tr>\n",
       "      <th>520</th>\n",
       "      <td>The Red Atlas: How the Soviet Union Secretly M...</td>\n",
       "      <td>John Davies and Alexander J. Kent</td>\n",
       "      <td>Library</td>\n",
       "      <td>2018</td>\n",
       "      <td>2017.0</td>\n",
       "      <td>230.0</td>\n",
       "      <td>No</td>\n",
       "      <td>The Soviet Union undertook an impressive campa...</td>\n",
       "    </tr>\n",
       "    <tr>\n",
       "      <th>521</th>\n",
       "      <td>Jesus of Nazareth: The Infancy Narratives</td>\n",
       "      <td>Pope Benedict XVI</td>\n",
       "      <td>Audiobook</td>\n",
       "      <td>2018</td>\n",
       "      <td>2012.0</td>\n",
       "      <td>144.0</td>\n",
       "      <td>No</td>\n",
       "      <td>Pope Benedict's writing is beautiful and simpl...</td>\n",
       "    </tr>\n",
       "    <tr>\n",
       "      <th>522</th>\n",
       "      <td>Thomas Jefferson and the Tripoli Pirates: The ...</td>\n",
       "      <td>Brian Kilmeade and Don Yaeger</td>\n",
       "      <td>Audiobook</td>\n",
       "      <td>2018</td>\n",
       "      <td>2015.0</td>\n",
       "      <td>304.0</td>\n",
       "      <td>No</td>\n",
       "      <td>This book tells the tale of the first US milit...</td>\n",
       "    </tr>\n",
       "    <tr>\n",
       "      <th>523</th>\n",
       "      <td>Honey for a Child's Heart (Fourth Edition)</td>\n",
       "      <td>Gladys Hunt</td>\n",
       "      <td>Book</td>\n",
       "      <td>2018</td>\n",
       "      <td>1969.0</td>\n",
       "      <td>231.0</td>\n",
       "      <td>No</td>\n",
       "      <td>This book made me excited to read to our kids!...</td>\n",
       "    </tr>\n",
       "    <tr>\n",
       "      <th>524</th>\n",
       "      <td>Robinson Crusoe</td>\n",
       "      <td>Daniel Defoe</td>\n",
       "      <td>Audiobook</td>\n",
       "      <td>2018</td>\n",
       "      <td>1719.0</td>\n",
       "      <td>288.0</td>\n",
       "      <td>No</td>\n",
       "      <td>I read an abridged version at some point growi...</td>\n",
       "    </tr>\n",
       "  </tbody>\n",
       "</table>\n",
       "</div>"
      ],
      "text/plain": [
       "                                                 Title  \\\n",
       "520  The Red Atlas: How the Soviet Union Secretly M...   \n",
       "521          Jesus of Nazareth: The Infancy Narratives   \n",
       "522  Thomas Jefferson and the Tripoli Pirates: The ...   \n",
       "523         Honey for a Child's Heart (Fourth Edition)   \n",
       "524                                    Robinson Crusoe   \n",
       "\n",
       "                                Author       Type  Read  Published  Pages  \\\n",
       "520  John Davies and Alexander J. Kent    Library  2018     2017.0  230.0   \n",
       "521                  Pope Benedict XVI  Audiobook  2018     2012.0  144.0   \n",
       "522      Brian Kilmeade and Don Yaeger  Audiobook  2018     2015.0  304.0   \n",
       "523                        Gladys Hunt       Book  2018     1969.0  231.0   \n",
       "524                       Daniel Defoe  Audiobook  2018     1719.0  288.0   \n",
       "\n",
       "    Notes                                         Reflection  \n",
       "520    No  The Soviet Union undertook an impressive campa...  \n",
       "521    No  Pope Benedict's writing is beautiful and simpl...  \n",
       "522    No  This book tells the tale of the first US milit...  \n",
       "523    No  This book made me excited to read to our kids!...  \n",
       "524    No  I read an abridged version at some point growi...  "
      ]
     },
     "execution_count": 3,
     "metadata": {},
     "output_type": "execute_result"
    }
   ],
   "source": [
    "df = pd.read_excel('reading.xlsx')\n",
    "df.tail()"
   ]
  },
  {
   "cell_type": "code",
   "execution_count": 4,
   "metadata": {
    "ExecuteTime": {
     "end_time": "2018-06-17T17:03:15.243522Z",
     "start_time": "2018-06-17T17:03:15.183494Z"
    }
   },
   "outputs": [
    {
     "data": {
      "text/html": [
       "<div>\n",
       "<style scoped>\n",
       "    .dataframe tbody tr th:only-of-type {\n",
       "        vertical-align: middle;\n",
       "    }\n",
       "\n",
       "    .dataframe tbody tr th {\n",
       "        vertical-align: top;\n",
       "    }\n",
       "\n",
       "    .dataframe thead th {\n",
       "        text-align: right;\n",
       "    }\n",
       "</style>\n",
       "<table border=\"1\" class=\"dataframe\">\n",
       "  <thead>\n",
       "    <tr style=\"text-align: right;\">\n",
       "      <th>Read</th>\n",
       "      <th>2006</th>\n",
       "      <th>2007</th>\n",
       "      <th>2008</th>\n",
       "      <th>2009</th>\n",
       "      <th>2010</th>\n",
       "      <th>2011</th>\n",
       "      <th>2012</th>\n",
       "      <th>2013</th>\n",
       "      <th>2014</th>\n",
       "      <th>2015</th>\n",
       "      <th>2016</th>\n",
       "      <th>2017</th>\n",
       "      <th>2018</th>\n",
       "      <th>Total</th>\n",
       "    </tr>\n",
       "    <tr>\n",
       "      <th>Type</th>\n",
       "      <th></th>\n",
       "      <th></th>\n",
       "      <th></th>\n",
       "      <th></th>\n",
       "      <th></th>\n",
       "      <th></th>\n",
       "      <th></th>\n",
       "      <th></th>\n",
       "      <th></th>\n",
       "      <th></th>\n",
       "      <th></th>\n",
       "      <th></th>\n",
       "      <th></th>\n",
       "      <th></th>\n",
       "    </tr>\n",
       "  </thead>\n",
       "  <tbody>\n",
       "    <tr>\n",
       "      <th>Audiobook</th>\n",
       "      <td></td>\n",
       "      <td></td>\n",
       "      <td></td>\n",
       "      <td></td>\n",
       "      <td></td>\n",
       "      <td>5</td>\n",
       "      <td></td>\n",
       "      <td>1</td>\n",
       "      <td>5</td>\n",
       "      <td>10</td>\n",
       "      <td>43.0</td>\n",
       "      <td>52.0</td>\n",
       "      <td>28.0</td>\n",
       "      <td>144</td>\n",
       "    </tr>\n",
       "    <tr>\n",
       "      <th>Book</th>\n",
       "      <td>13</td>\n",
       "      <td>14</td>\n",
       "      <td>17</td>\n",
       "      <td>22</td>\n",
       "      <td>26</td>\n",
       "      <td>19</td>\n",
       "      <td>31</td>\n",
       "      <td>36</td>\n",
       "      <td>33</td>\n",
       "      <td>25</td>\n",
       "      <td>23.0</td>\n",
       "      <td>29.0</td>\n",
       "      <td>10.0</td>\n",
       "      <td>298</td>\n",
       "    </tr>\n",
       "    <tr>\n",
       "      <th>Library</th>\n",
       "      <td></td>\n",
       "      <td></td>\n",
       "      <td></td>\n",
       "      <td></td>\n",
       "      <td></td>\n",
       "      <td></td>\n",
       "      <td></td>\n",
       "      <td>3</td>\n",
       "      <td>4</td>\n",
       "      <td>1</td>\n",
       "      <td>7.0</td>\n",
       "      <td>10.0</td>\n",
       "      <td>14.0</td>\n",
       "      <td>39</td>\n",
       "    </tr>\n",
       "    <tr>\n",
       "      <th>PDF</th>\n",
       "      <td></td>\n",
       "      <td></td>\n",
       "      <td></td>\n",
       "      <td></td>\n",
       "      <td></td>\n",
       "      <td></td>\n",
       "      <td></td>\n",
       "      <td>2</td>\n",
       "      <td>6</td>\n",
       "      <td>5</td>\n",
       "      <td>5.0</td>\n",
       "      <td>2.0</td>\n",
       "      <td>3.0</td>\n",
       "      <td>23</td>\n",
       "    </tr>\n",
       "    <tr>\n",
       "      <th>eBook</th>\n",
       "      <td></td>\n",
       "      <td></td>\n",
       "      <td></td>\n",
       "      <td></td>\n",
       "      <td></td>\n",
       "      <td></td>\n",
       "      <td></td>\n",
       "      <td></td>\n",
       "      <td></td>\n",
       "      <td></td>\n",
       "      <td>10.0</td>\n",
       "      <td>10.0</td>\n",
       "      <td>1.0</td>\n",
       "      <td>21</td>\n",
       "    </tr>\n",
       "    <tr>\n",
       "      <th>Total</th>\n",
       "      <td>13</td>\n",
       "      <td>14</td>\n",
       "      <td>17</td>\n",
       "      <td>22</td>\n",
       "      <td>26</td>\n",
       "      <td>24</td>\n",
       "      <td>31</td>\n",
       "      <td>42</td>\n",
       "      <td>48</td>\n",
       "      <td>41</td>\n",
       "      <td>88.0</td>\n",
       "      <td>103.0</td>\n",
       "      <td>56.0</td>\n",
       "      <td>525</td>\n",
       "    </tr>\n",
       "  </tbody>\n",
       "</table>\n",
       "</div>"
      ],
      "text/plain": [
       "Read      2006 2007 2008 2009 2010 2011 2012 2013 2014 2015  2016   2017  \\\n",
       "Type                                                                       \n",
       "Audiobook                             5         1    5   10  43.0   52.0   \n",
       "Book        13   14   17   22   26   19   31   36   33   25  23.0   29.0   \n",
       "Library                                         3    4    1   7.0   10.0   \n",
       "PDF                                             2    6    5   5.0    2.0   \n",
       "eBook                                                        10.0   10.0   \n",
       "Total       13   14   17   22   26   24   31   42   48   41  88.0  103.0   \n",
       "\n",
       "Read       2018  Total  \n",
       "Type                    \n",
       "Audiobook  28.0    144  \n",
       "Book       10.0    298  \n",
       "Library    14.0     39  \n",
       "PDF         3.0     23  \n",
       "eBook       1.0     21  \n",
       "Total      56.0    525  "
      ]
     },
     "execution_count": 4,
     "metadata": {},
     "output_type": "execute_result"
    }
   ],
   "source": [
    "table = pd.pivot_table(df,\n",
    "                       index=['Type'],\n",
    "                       columns=['Read'],\n",
    "                       values=['Title'],\n",
    "                       margins=True,\n",
    "                       margins_name='Total',\n",
    "                       aggfunc=[len])\n",
    "table.columns = table.columns.droplevel(1)\n",
    "table.columns = table.columns.droplevel(0)\n",
    "table.fillna('')"
   ]
  },
  {
   "cell_type": "code",
   "execution_count": 5,
   "metadata": {
    "ExecuteTime": {
     "end_time": "2018-06-17T17:03:15.495666Z",
     "start_time": "2018-06-17T17:03:15.246034Z"
    }
   },
   "outputs": [
    {
     "data": {
      "image/png": "[encoded data removed]",
      "text/plain": [
       "<Figure size 432x288 with 1 Axes>"
      ]
     },
     "metadata": {},
     "output_type": "display_data"
    }
   ],
   "source": [
    "dfPlot = (df\n",
    " .groupby(['Read','Type'])\n",
    " .size()\n",
    " .unstack()\n",
    ")\n",
    "dfPlot = dfPlot[['Book','Audiobook','Library','eBook','PDF']]\n",
    "dfPlot.plot.area()\n",
    "\n",
    "plt.style.use('mag')\n",
    "plt.gca().set_xlabel('')\n",
    "plt.gca().xaxis.grid(False)\n",
    "# plt.savefig('chart.png', dpi = 350)"
   ]
  },
  {
   "cell_type": "code",
   "execution_count": null,
   "metadata": {
    "collapsed": true
   },
   "outputs": [],
   "source": []
  }
 ],
 "metadata": {
  "anaconda-cloud": {},
  "kernelspec": {
   "display_name": "Python 3",
   "language": "python",
   "name": "python3"
  },
  "language_info": {
   "codemirror_mode": {
    "name": "ipython",
    "version": 3
   },
   "file_extension": ".py",
   "mimetype": "text/x-python",
   "name": "python",
   "nbconvert_exporter": "python",
   "pygments_lexer": "ipython3",
   "version": "3.6.3"
  },
  "toc": {
   "nav_menu": {},
   "number_sections": true,
   "sideBar": true,
   "skip_h1_title": false,
   "toc_cell": false,
   "toc_position": {},
   "toc_section_display": "block",
   "toc_window_display": false
  }
 },
 "nbformat": 4,
 "nbformat_minor": 2
}
